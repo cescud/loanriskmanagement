{
  "nbformat": 4,
  "nbformat_minor": 0,
  "metadata": {
    "colab": {
      "name": "final.ipynb",
      "provenance": []
    },
    "kernelspec": {
      "name": "python3",
      "display_name": "Python 3"
    }
  },
  "cells": [
    {
      "cell_type": "code",
      "metadata": {
        "id": "Smd60QcZYIbr"
      },
      "source": [
        "import warnings\n",
        "warnings.filterwarnings(\"ignore\")"
      ],
      "execution_count": null,
      "outputs": []
    },
    {
      "cell_type": "markdown",
      "metadata": {
        "id": "IldK_n1LYKf8"
      },
      "source": [
        "Read in the Data:"
      ]
    },
    {
      "cell_type": "code",
      "metadata": {
        "colab": {
          "base_uri": "https://localhost:8080/"
        },
        "id": "YA824fNSGNir",
        "outputId": "a3f7d40b-bd00-4411-84a4-7e7b77fc94ee"
      },
      "source": [
        "import pandas as pd\n",
        "import numpy as np\n",
        "import csv\n",
        "filename = \"LoanStats_securev1_2019Q1.csv\"\n",
        "df = pd.read_csv(filename,header=1)\n",
        "df.shape"
      ],
      "execution_count": null,
      "outputs": [
        {
          "output_type": "execute_result",
          "data": {
            "text/plain": [
              "(115677, 150)"
            ]
          },
          "metadata": {
            "tags": []
          },
          "execution_count": 430
        }
      ]
    },
    {
      "cell_type": "markdown",
      "metadata": {
        "id": "blbcOP8pYYoS"
      },
      "source": [
        "We can see there are 150 features. The next steps of the code will be feature selection, which will find the most important features that we should be focusing on. Our target variable is Loan Status. We only want to focus on loans that are fully paid or charged off. Therefore, we will remove any rows that have something otherwise. "
      ]
    },
    {
      "cell_type": "code",
      "metadata": {
        "id": "MbzaM2YiY1ug"
      },
      "source": [
        "df = df[df['loan_status'].isin(['Fully Paid', 'Charged Off'])]"
      ],
      "execution_count": null,
      "outputs": []
    },
    {
      "cell_type": "markdown",
      "metadata": {
        "id": "fw-PryuKZbrx"
      },
      "source": [
        "We will drop the features with the following criteria:\n",
        "\n",
        "*   More than 50% of the data is missing\n",
        "*   The feature would not have been available at the time of the loan application (\"issue_d\").\n",
        "\n",
        "We will also address the following:\n",
        "\n",
        "*  convert strings to numerical values\n",
        "* drop superfluous attributes \n",
        "* highly correlated predictors\n",
        "* zero (or nearly zero) variance predictors\n"
      ]
    },
    {
      "cell_type": "markdown",
      "metadata": {
        "id": "rYOrfQm-Z3tR"
      },
      "source": [
        "This null values function below will give us a visual of the features with missing data and % of total values."
      ]
    },
    {
      "cell_type": "code",
      "metadata": {
        "id": "VR2Dk6Q9Y2QM"
      },
      "source": [
        "def null_values(df):\n",
        "        mis_val = df.isnull().sum()\n",
        "        mis_val_percent = 100 * df.isnull().sum() / len(df)\n",
        "        mis_val_table = pd.concat([mis_val, mis_val_percent], axis=1)\n",
        "        mis_val_table_ren_columns = mis_val_table.rename(\n",
        "        columns = {0 : 'Missing Values', 1 : '% of Total Values'})\n",
        "        mis_val_table_ren_columns = mis_val_table_ren_columns[\n",
        "            mis_val_table_ren_columns.iloc[:,1] != 0].sort_values(\n",
        "        '% of Total Values', ascending=False).round(1)\n",
        "        print (\"Dataframe has \" + str(df.shape[1]) + \" columns.\\n\"      \n",
        "            \"There are \" + str(mis_val_table_ren_columns.shape[0]) +\n",
        "              \" columns that have missing values.\")\n",
        "        return mis_val_table_ren_columns"
      ],
      "execution_count": null,
      "outputs": []
    },
    {
      "cell_type": "code",
      "metadata": {
        "colab": {
          "base_uri": "https://localhost:8080/",
          "height": 424
        },
        "id": "OZctHE-RaCz6",
        "outputId": "c850690d-77e1-4516-fbfb-6a91a9fea501"
      },
      "source": [
        "null_values(df)"
      ],
      "execution_count": null,
      "outputs": [
        {
          "output_type": "stream",
          "text": [
            "Dataframe has 150 columns.\n",
            "There are 61 columns that have missing values.\n"
          ],
          "name": "stdout"
        },
        {
          "output_type": "execute_result",
          "data": {
            "text/html": [
              "<div>\n",
              "<style scoped>\n",
              "    .dataframe tbody tr th:only-of-type {\n",
              "        vertical-align: middle;\n",
              "    }\n",
              "\n",
              "    .dataframe tbody tr th {\n",
              "        vertical-align: top;\n",
              "    }\n",
              "\n",
              "    .dataframe thead th {\n",
              "        text-align: right;\n",
              "    }\n",
              "</style>\n",
              "<table border=\"1\" class=\"dataframe\">\n",
              "  <thead>\n",
              "    <tr style=\"text-align: right;\">\n",
              "      <th></th>\n",
              "      <th>Missing Values</th>\n",
              "      <th>% of Total Values</th>\n",
              "    </tr>\n",
              "  </thead>\n",
              "  <tbody>\n",
              "    <tr>\n",
              "      <th>member_id</th>\n",
              "      <td>37761</td>\n",
              "      <td>100.0</td>\n",
              "    </tr>\n",
              "    <tr>\n",
              "      <th>next_pymnt_d</th>\n",
              "      <td>37761</td>\n",
              "      <td>100.0</td>\n",
              "    </tr>\n",
              "    <tr>\n",
              "      <th>desc</th>\n",
              "      <td>37761</td>\n",
              "      <td>100.0</td>\n",
              "    </tr>\n",
              "    <tr>\n",
              "      <th>settlement_percentage</th>\n",
              "      <td>37239</td>\n",
              "      <td>98.6</td>\n",
              "    </tr>\n",
              "    <tr>\n",
              "      <th>settlement_amount</th>\n",
              "      <td>37239</td>\n",
              "      <td>98.6</td>\n",
              "    </tr>\n",
              "    <tr>\n",
              "      <th>...</th>\n",
              "      <td>...</td>\n",
              "      <td>...</td>\n",
              "    </tr>\n",
              "    <tr>\n",
              "      <th>last_pymnt_d</th>\n",
              "      <td>224</td>\n",
              "      <td>0.6</td>\n",
              "    </tr>\n",
              "    <tr>\n",
              "      <th>dti</th>\n",
              "      <td>98</td>\n",
              "      <td>0.3</td>\n",
              "    </tr>\n",
              "    <tr>\n",
              "      <th>revol_util</th>\n",
              "      <td>47</td>\n",
              "      <td>0.1</td>\n",
              "    </tr>\n",
              "    <tr>\n",
              "      <th>all_util</th>\n",
              "      <td>9</td>\n",
              "      <td>0.0</td>\n",
              "    </tr>\n",
              "    <tr>\n",
              "      <th>avg_cur_bal</th>\n",
              "      <td>3</td>\n",
              "      <td>0.0</td>\n",
              "    </tr>\n",
              "  </tbody>\n",
              "</table>\n",
              "<p>61 rows × 2 columns</p>\n",
              "</div>"
            ],
            "text/plain": [
              "                       Missing Values  % of Total Values\n",
              "member_id                       37761              100.0\n",
              "next_pymnt_d                    37761              100.0\n",
              "desc                            37761              100.0\n",
              "settlement_percentage           37239               98.6\n",
              "settlement_amount               37239               98.6\n",
              "...                               ...                ...\n",
              "last_pymnt_d                      224                0.6\n",
              "dti                                98                0.3\n",
              "revol_util                         47                0.1\n",
              "all_util                            9                0.0\n",
              "avg_cur_bal                         3                0.0\n",
              "\n",
              "[61 rows x 2 columns]"
            ]
          },
          "metadata": {
            "tags": []
          },
          "execution_count": 251
        }
      ]
    },
    {
      "cell_type": "markdown",
      "metadata": {
        "id": "60PppG-BaS0Q"
      },
      "source": [
        "Next, we will drop all variables that have more than 50% missing data. "
      ]
    },
    {
      "cell_type": "code",
      "metadata": {
        "colab": {
          "base_uri": "https://localhost:8080/"
        },
        "id": "gv2sHUSaY7_W",
        "outputId": "9c211f5e-b758-4b51-8ee8-1feb95620b7a"
      },
      "source": [
        "missing_frac = df.isnull().mean()\n",
        "drop_list = sorted(missing_frac[missing_frac >= 0.50].index)\n",
        "print(drop_list)"
      ],
      "execution_count": null,
      "outputs": [
        {
          "output_type": "stream",
          "text": [
            "['annual_inc_joint', 'debt_settlement_flag_date', 'deferral_term', 'desc', 'dti_joint', 'hardship_amount', 'hardship_dpd', 'hardship_end_date', 'hardship_last_payment_amount', 'hardship_length', 'hardship_loan_status', 'hardship_payoff_balance_amount', 'hardship_reason', 'hardship_start_date', 'hardship_status', 'hardship_type', 'member_id', 'mths_since_last_delinq', 'mths_since_last_major_derog', 'mths_since_last_record', 'mths_since_recent_bc_dlq', 'mths_since_recent_revol_delinq', 'next_pymnt_d', 'orig_projected_additional_accrued_interest', 'payment_plan_start_date', 'revol_bal_joint', 'sec_app_chargeoff_within_12_mths', 'sec_app_collections_12_mths_ex_med', 'sec_app_earliest_cr_line', 'sec_app_fico_range_high', 'sec_app_fico_range_low', 'sec_app_inq_last_6mths', 'sec_app_mort_acc', 'sec_app_mths_since_last_major_derog', 'sec_app_num_rev_accts', 'sec_app_open_acc', 'sec_app_open_act_il', 'sec_app_revol_util', 'settlement_amount', 'settlement_date', 'settlement_percentage', 'settlement_status', 'settlement_term', 'verification_status_joint']\n"
          ],
          "name": "stdout"
        }
      ]
    },
    {
      "cell_type": "markdown",
      "metadata": {
        "id": "SnVdNi3salrv"
      },
      "source": [
        "The function below will remove the variables in the drop list above from the dataset. "
      ]
    },
    {
      "cell_type": "code",
      "metadata": {
        "id": "9sTT-sLRcbJp"
      },
      "source": [
        "def drop_cols(cols):\n",
        "    df.drop(labels=cols, axis=1, inplace=True)"
      ],
      "execution_count": null,
      "outputs": []
    },
    {
      "cell_type": "code",
      "metadata": {
        "id": "Bx8Llagucc5n"
      },
      "source": [
        "drop_cols(drop_list)"
      ],
      "execution_count": null,
      "outputs": []
    },
    {
      "cell_type": "code",
      "metadata": {
        "colab": {
          "base_uri": "https://localhost:8080/"
        },
        "id": "4EvS-lJ4aqWD",
        "outputId": "6c7c7569-8613-4e22-e2ae-ac6fcc4e9652"
      },
      "source": [
        "df.shape"
      ],
      "execution_count": null,
      "outputs": [
        {
          "output_type": "execute_result",
          "data": {
            "text/plain": [
              "(37761, 106)"
            ]
          },
          "metadata": {
            "tags": []
          },
          "execution_count": 434
        }
      ]
    },
    {
      "cell_type": "markdown",
      "metadata": {
        "id": "IWllHXg9a4h2"
      },
      "source": [
        "Next, I will remove the features that were unavailable before lending a loan."
      ]
    },
    {
      "cell_type": "code",
      "metadata": {
        "colab": {
          "base_uri": "https://localhost:8080/"
        },
        "id": "wiA9dJo8a8kM",
        "outputId": "a29f25b7-e177-4cb8-fd84-ad7f9f1e1ecc"
      },
      "source": [
        "print(sorted(df.columns))"
      ],
      "execution_count": null,
      "outputs": [
        {
          "output_type": "stream",
          "text": [
            "['acc_now_delinq', 'acc_open_past_24mths', 'addr_state', 'all_util', 'annual_inc', 'application_type', 'avg_cur_bal', 'bc_open_to_buy', 'bc_util', 'chargeoff_within_12_mths', 'collection_recovery_fee', 'collections_12_mths_ex_med', 'debt_settlement_flag', 'delinq_2yrs', 'delinq_amnt', 'dti', 'earliest_cr_line', 'emp_length', 'emp_title', 'fico_range_high', 'fico_range_low', 'funded_amnt', 'funded_amnt_inv', 'grade', 'hardship_flag', 'home_ownership', 'id', 'il_util', 'initial_list_status', 'inq_fi', 'inq_last_12m', 'inq_last_6mths', 'installment', 'int_rate', 'issue_d', 'last_credit_pull_d', 'last_fico_range_high', 'last_fico_range_low', 'last_pymnt_amnt', 'last_pymnt_d', 'loan_amnt', 'loan_status', 'max_bal_bc', 'mo_sin_old_il_acct', 'mo_sin_old_rev_tl_op', 'mo_sin_rcnt_rev_tl_op', 'mo_sin_rcnt_tl', 'mort_acc', 'mths_since_rcnt_il', 'mths_since_recent_bc', 'mths_since_recent_inq', 'num_accts_ever_120_pd', 'num_actv_bc_tl', 'num_actv_rev_tl', 'num_bc_sats', 'num_bc_tl', 'num_il_tl', 'num_op_rev_tl', 'num_rev_accts', 'num_rev_tl_bal_gt_0', 'num_sats', 'num_tl_120dpd_2m', 'num_tl_30dpd', 'num_tl_90g_dpd_24m', 'num_tl_op_past_12m', 'open_acc', 'open_acc_6m', 'open_act_il', 'open_il_12m', 'open_il_24m', 'open_rv_12m', 'open_rv_24m', 'out_prncp', 'out_prncp_inv', 'pct_tl_nvr_dlq', 'percent_bc_gt_75', 'policy_code', 'pub_rec', 'pub_rec_bankruptcies', 'purpose', 'pymnt_plan', 'recoveries', 'revol_bal', 'revol_util', 'sub_grade', 'tax_liens', 'term', 'title', 'tot_coll_amt', 'tot_cur_bal', 'tot_hi_cred_lim', 'total_acc', 'total_bal_ex_mort', 'total_bal_il', 'total_bc_limit', 'total_cu_tl', 'total_il_high_credit_limit', 'total_pymnt', 'total_pymnt_inv', 'total_rec_int', 'total_rec_late_fee', 'total_rec_prncp', 'total_rev_hi_lim', 'url', 'verification_status', 'zip_code']\n"
          ],
          "name": "stdout"
        }
      ]
    },
    {
      "cell_type": "code",
      "metadata": {
        "colab": {
          "base_uri": "https://localhost:8080/"
        },
        "id": "oZ1jiBqmcfaF",
        "outputId": "0422a1ba-5994-4948-c195-58c1c285c423"
      },
      "source": [
        "drop_list2 = ['acc_now_delinq', 'acc_open_past_24mths', 'avg_cur_bal', 'bc_open_to_buy', 'bc_util', 'chargeoff_within_12_mths', 'collection_recovery_fee', 'collections_12_mths_ex_med', 'debt_settlement_flag', 'delinq_2yrs', 'delinq_amnt', 'funded_amnt', 'funded_amnt_inv', 'hardship_flag', 'inq_last_6mths', 'last_credit_pull_d', 'last_fico_range_high', 'last_fico_range_low', 'last_pymnt_amnt', 'last_pymnt_d', 'mo_sin_rcnt_rev_tl_op', 'mo_sin_rcnt_tl', 'mths_since_recent_bc', 'mths_since_recent_inq', 'num_accts_ever_120_pd', 'num_actv_bc_tl', 'num_actv_rev_tl', 'num_bc_sats', 'num_bc_tl', 'num_il_tl', 'num_op_rev_tl', 'num_rev_accts', 'num_rev_tl_bal_gt_0', 'num_sats', 'num_tl_120dpd_2m', 'num_tl_30dpd', 'num_tl_90g_dpd_24m', 'num_tl_op_past_12m',  'out_prncp', 'out_prncp_inv', 'pct_tl_nvr_dlq', 'percent_bc_gt_75', 'pymnt_plan', 'recoveries', 'tax_liens', 'tot_coll_amt', 'tot_cur_bal', 'tot_hi_cred_lim', 'total_bal_ex_mort', 'total_bc_limit', 'total_il_high_credit_limit', 'total_pymnt', 'total_pymnt_inv', 'total_rec_int', 'total_rec_late_fee', 'total_rec_prncp', 'total_rev_hi_lim']\n",
        "drop_cols(drop_list2)\n",
        "len(df.columns)"
      ],
      "execution_count": null,
      "outputs": [
        {
          "output_type": "execute_result",
          "data": {
            "text/plain": [
              "49"
            ]
          },
          "metadata": {
            "tags": []
          },
          "execution_count": 435
        }
      ]
    },
    {
      "cell_type": "code",
      "metadata": {
        "colab": {
          "base_uri": "https://localhost:8080/",
          "height": 291
        },
        "id": "tYoo3gqhfzxR",
        "outputId": "70299ab1-2e6d-4ea3-bba0-c4db4454fca0"
      },
      "source": [
        "df.head()"
      ],
      "execution_count": null,
      "outputs": [
        {
          "output_type": "execute_result",
          "data": {
            "text/html": [
              "<div>\n",
              "<style scoped>\n",
              "    .dataframe tbody tr th:only-of-type {\n",
              "        vertical-align: middle;\n",
              "    }\n",
              "\n",
              "    .dataframe tbody tr th {\n",
              "        vertical-align: top;\n",
              "    }\n",
              "\n",
              "    .dataframe thead th {\n",
              "        text-align: right;\n",
              "    }\n",
              "</style>\n",
              "<table border=\"1\" class=\"dataframe\">\n",
              "  <thead>\n",
              "    <tr style=\"text-align: right;\">\n",
              "      <th></th>\n",
              "      <th>id</th>\n",
              "      <th>loan_amnt</th>\n",
              "      <th>term</th>\n",
              "      <th>int_rate</th>\n",
              "      <th>installment</th>\n",
              "      <th>grade</th>\n",
              "      <th>sub_grade</th>\n",
              "      <th>emp_title</th>\n",
              "      <th>emp_length</th>\n",
              "      <th>home_ownership</th>\n",
              "      <th>annual_inc</th>\n",
              "      <th>verification_status</th>\n",
              "      <th>issue_d</th>\n",
              "      <th>loan_status</th>\n",
              "      <th>url</th>\n",
              "      <th>purpose</th>\n",
              "      <th>title</th>\n",
              "      <th>zip_code</th>\n",
              "      <th>addr_state</th>\n",
              "      <th>dti</th>\n",
              "      <th>earliest_cr_line</th>\n",
              "      <th>fico_range_low</th>\n",
              "      <th>fico_range_high</th>\n",
              "      <th>open_acc</th>\n",
              "      <th>pub_rec</th>\n",
              "      <th>revol_bal</th>\n",
              "      <th>revol_util</th>\n",
              "      <th>total_acc</th>\n",
              "      <th>initial_list_status</th>\n",
              "      <th>policy_code</th>\n",
              "      <th>application_type</th>\n",
              "      <th>open_acc_6m</th>\n",
              "      <th>open_act_il</th>\n",
              "      <th>open_il_12m</th>\n",
              "      <th>open_il_24m</th>\n",
              "      <th>mths_since_rcnt_il</th>\n",
              "      <th>total_bal_il</th>\n",
              "      <th>il_util</th>\n",
              "      <th>open_rv_12m</th>\n",
              "      <th>open_rv_24m</th>\n",
              "      <th>max_bal_bc</th>\n",
              "      <th>all_util</th>\n",
              "      <th>inq_fi</th>\n",
              "      <th>total_cu_tl</th>\n",
              "      <th>inq_last_12m</th>\n",
              "      <th>mo_sin_old_il_acct</th>\n",
              "      <th>mo_sin_old_rev_tl_op</th>\n",
              "      <th>mort_acc</th>\n",
              "      <th>pub_rec_bankruptcies</th>\n",
              "    </tr>\n",
              "  </thead>\n",
              "  <tbody>\n",
              "    <tr>\n",
              "      <th>1</th>\n",
              "      <td>149089105</td>\n",
              "      <td>6500.0</td>\n",
              "      <td>36 months</td>\n",
              "      <td>8.81%</td>\n",
              "      <td>206.13</td>\n",
              "      <td>A</td>\n",
              "      <td>A5</td>\n",
              "      <td>Service Technician</td>\n",
              "      <td>10+ years</td>\n",
              "      <td>OWN</td>\n",
              "      <td>85000.0</td>\n",
              "      <td>Source Verified</td>\n",
              "      <td>Mar-2019</td>\n",
              "      <td>Fully Paid</td>\n",
              "      <td>https://lendingclub.com/browse/loanDetail.acti...</td>\n",
              "      <td>debt_consolidation</td>\n",
              "      <td>Debt consolidation</td>\n",
              "      <td>851xx</td>\n",
              "      <td>AZ</td>\n",
              "      <td>21.62</td>\n",
              "      <td>Feb-2008</td>\n",
              "      <td>685.0</td>\n",
              "      <td>689.0</td>\n",
              "      <td>5.0</td>\n",
              "      <td>0.0</td>\n",
              "      <td>1870.0</td>\n",
              "      <td>33.4%</td>\n",
              "      <td>10.0</td>\n",
              "      <td>f</td>\n",
              "      <td>1.0</td>\n",
              "      <td>Individual</td>\n",
              "      <td>0.0</td>\n",
              "      <td>3.0</td>\n",
              "      <td>0.0</td>\n",
              "      <td>3.0</td>\n",
              "      <td>23.0</td>\n",
              "      <td>94033.0</td>\n",
              "      <td>72.0</td>\n",
              "      <td>0.0</td>\n",
              "      <td>0.0</td>\n",
              "      <td>1757.0</td>\n",
              "      <td>67.0</td>\n",
              "      <td>1.0</td>\n",
              "      <td>3.0</td>\n",
              "      <td>5.0</td>\n",
              "      <td>131.0</td>\n",
              "      <td>36.0</td>\n",
              "      <td>1.0</td>\n",
              "      <td>0.0</td>\n",
              "    </tr>\n",
              "    <tr>\n",
              "      <th>5</th>\n",
              "      <td>149477700</td>\n",
              "      <td>15000.0</td>\n",
              "      <td>36 months</td>\n",
              "      <td>17.97%</td>\n",
              "      <td>542.07</td>\n",
              "      <td>D</td>\n",
              "      <td>D1</td>\n",
              "      <td>Administrative Assistant</td>\n",
              "      <td>5 years</td>\n",
              "      <td>MORTGAGE</td>\n",
              "      <td>58240.0</td>\n",
              "      <td>Verified</td>\n",
              "      <td>Mar-2019</td>\n",
              "      <td>Fully Paid</td>\n",
              "      <td>https://lendingclub.com/browse/loanDetail.acti...</td>\n",
              "      <td>debt_consolidation</td>\n",
              "      <td>Debt consolidation</td>\n",
              "      <td>907xx</td>\n",
              "      <td>CA</td>\n",
              "      <td>38.53</td>\n",
              "      <td>Aug-2005</td>\n",
              "      <td>660.0</td>\n",
              "      <td>664.0</td>\n",
              "      <td>9.0</td>\n",
              "      <td>0.0</td>\n",
              "      <td>67035.0</td>\n",
              "      <td>66.4%</td>\n",
              "      <td>18.0</td>\n",
              "      <td>w</td>\n",
              "      <td>1.0</td>\n",
              "      <td>Individual</td>\n",
              "      <td>0.0</td>\n",
              "      <td>2.0</td>\n",
              "      <td>1.0</td>\n",
              "      <td>3.0</td>\n",
              "      <td>7.0</td>\n",
              "      <td>34645.0</td>\n",
              "      <td>88.0</td>\n",
              "      <td>1.0</td>\n",
              "      <td>3.0</td>\n",
              "      <td>13753.0</td>\n",
              "      <td>78.0</td>\n",
              "      <td>4.0</td>\n",
              "      <td>2.0</td>\n",
              "      <td>2.0</td>\n",
              "      <td>163.0</td>\n",
              "      <td>157.0</td>\n",
              "      <td>1.0</td>\n",
              "      <td>0.0</td>\n",
              "    </tr>\n",
              "    <tr>\n",
              "      <th>11</th>\n",
              "      <td>149459186</td>\n",
              "      <td>1000.0</td>\n",
              "      <td>36 months</td>\n",
              "      <td>7.56%</td>\n",
              "      <td>31.14</td>\n",
              "      <td>A</td>\n",
              "      <td>A3</td>\n",
              "      <td>NaN</td>\n",
              "      <td>NaN</td>\n",
              "      <td>RENT</td>\n",
              "      <td>26000.0</td>\n",
              "      <td>Not Verified</td>\n",
              "      <td>Mar-2019</td>\n",
              "      <td>Fully Paid</td>\n",
              "      <td>https://lendingclub.com/browse/loanDetail.acti...</td>\n",
              "      <td>other</td>\n",
              "      <td>Other</td>\n",
              "      <td>281xx</td>\n",
              "      <td>NC</td>\n",
              "      <td>14.73</td>\n",
              "      <td>Nov-2005</td>\n",
              "      <td>765.0</td>\n",
              "      <td>769.0</td>\n",
              "      <td>12.0</td>\n",
              "      <td>0.0</td>\n",
              "      <td>697.0</td>\n",
              "      <td>2%</td>\n",
              "      <td>23.0</td>\n",
              "      <td>f</td>\n",
              "      <td>1.0</td>\n",
              "      <td>Individual</td>\n",
              "      <td>1.0</td>\n",
              "      <td>3.0</td>\n",
              "      <td>0.0</td>\n",
              "      <td>2.0</td>\n",
              "      <td>20.0</td>\n",
              "      <td>6549.0</td>\n",
              "      <td>73.0</td>\n",
              "      <td>1.0</td>\n",
              "      <td>2.0</td>\n",
              "      <td>186.0</td>\n",
              "      <td>17.0</td>\n",
              "      <td>1.0</td>\n",
              "      <td>0.0</td>\n",
              "      <td>1.0</td>\n",
              "      <td>107.0</td>\n",
              "      <td>160.0</td>\n",
              "      <td>0.0</td>\n",
              "      <td>0.0</td>\n",
              "    </tr>\n",
              "    <tr>\n",
              "      <th>14</th>\n",
              "      <td>149521312</td>\n",
              "      <td>3025.0</td>\n",
              "      <td>36 months</td>\n",
              "      <td>17.19%</td>\n",
              "      <td>108.14</td>\n",
              "      <td>C</td>\n",
              "      <td>C5</td>\n",
              "      <td>Warehouse employee</td>\n",
              "      <td>3 years</td>\n",
              "      <td>RENT</td>\n",
              "      <td>30000.0</td>\n",
              "      <td>Source Verified</td>\n",
              "      <td>Mar-2019</td>\n",
              "      <td>Fully Paid</td>\n",
              "      <td>https://lendingclub.com/browse/loanDetail.acti...</td>\n",
              "      <td>debt_consolidation</td>\n",
              "      <td>Debt consolidation</td>\n",
              "      <td>300xx</td>\n",
              "      <td>GA</td>\n",
              "      <td>11.88</td>\n",
              "      <td>Jul-2005</td>\n",
              "      <td>665.0</td>\n",
              "      <td>669.0</td>\n",
              "      <td>9.0</td>\n",
              "      <td>0.0</td>\n",
              "      <td>2885.0</td>\n",
              "      <td>43.7%</td>\n",
              "      <td>22.0</td>\n",
              "      <td>w</td>\n",
              "      <td>1.0</td>\n",
              "      <td>Individual</td>\n",
              "      <td>0.0</td>\n",
              "      <td>3.0</td>\n",
              "      <td>0.0</td>\n",
              "      <td>1.0</td>\n",
              "      <td>16.0</td>\n",
              "      <td>16136.0</td>\n",
              "      <td>82.0</td>\n",
              "      <td>3.0</td>\n",
              "      <td>4.0</td>\n",
              "      <td>1530.0</td>\n",
              "      <td>72.0</td>\n",
              "      <td>1.0</td>\n",
              "      <td>1.0</td>\n",
              "      <td>1.0</td>\n",
              "      <td>164.0</td>\n",
              "      <td>149.0</td>\n",
              "      <td>3.0</td>\n",
              "      <td>0.0</td>\n",
              "    </tr>\n",
              "    <tr>\n",
              "      <th>15</th>\n",
              "      <td>149521158</td>\n",
              "      <td>2000.0</td>\n",
              "      <td>36 months</td>\n",
              "      <td>16.40%</td>\n",
              "      <td>70.71</td>\n",
              "      <td>C</td>\n",
              "      <td>C4</td>\n",
              "      <td>Teacher</td>\n",
              "      <td>3 years</td>\n",
              "      <td>RENT</td>\n",
              "      <td>53000.0</td>\n",
              "      <td>Source Verified</td>\n",
              "      <td>Mar-2019</td>\n",
              "      <td>Fully Paid</td>\n",
              "      <td>https://lendingclub.com/browse/loanDetail.acti...</td>\n",
              "      <td>car</td>\n",
              "      <td>Car financing</td>\n",
              "      <td>765xx</td>\n",
              "      <td>TX</td>\n",
              "      <td>20.86</td>\n",
              "      <td>Sep-2009</td>\n",
              "      <td>680.0</td>\n",
              "      <td>684.0</td>\n",
              "      <td>22.0</td>\n",
              "      <td>0.0</td>\n",
              "      <td>15299.0</td>\n",
              "      <td>34.8%</td>\n",
              "      <td>44.0</td>\n",
              "      <td>f</td>\n",
              "      <td>1.0</td>\n",
              "      <td>Individual</td>\n",
              "      <td>1.0</td>\n",
              "      <td>15.0</td>\n",
              "      <td>1.0</td>\n",
              "      <td>1.0</td>\n",
              "      <td>8.0</td>\n",
              "      <td>109166.0</td>\n",
              "      <td>113.0</td>\n",
              "      <td>1.0</td>\n",
              "      <td>5.0</td>\n",
              "      <td>5017.0</td>\n",
              "      <td>89.0</td>\n",
              "      <td>1.0</td>\n",
              "      <td>0.0</td>\n",
              "      <td>2.0</td>\n",
              "      <td>114.0</td>\n",
              "      <td>43.0</td>\n",
              "      <td>0.0</td>\n",
              "      <td>0.0</td>\n",
              "    </tr>\n",
              "  </tbody>\n",
              "</table>\n",
              "</div>"
            ],
            "text/plain": [
              "           id  loan_amnt  ... mort_acc pub_rec_bankruptcies\n",
              "1   149089105     6500.0  ...      1.0                  0.0\n",
              "5   149477700    15000.0  ...      1.0                  0.0\n",
              "11  149459186     1000.0  ...      0.0                  0.0\n",
              "14  149521312     3025.0  ...      3.0                  0.0\n",
              "15  149521158     2000.0  ...      0.0                  0.0\n",
              "\n",
              "[5 rows x 49 columns]"
            ]
          },
          "metadata": {
            "tags": []
          },
          "execution_count": 436
        }
      ]
    },
    {
      "cell_type": "markdown",
      "metadata": {
        "id": "K2gc3NtrbUlr"
      },
      "source": [
        "Now we are left with 49 features, I will screen each feature and decide if a feature should be dropped. After pre-processing each feature, I will do some overall statistical tests for all the features, their correlations, etc. The tasks involved include:\n",
        "\n",
        "* Missing data and outliers\n",
        "* Cleaning & Formatting:\n",
        "* Transformation of features\n",
        "* Choose the most relevant features in the data"
      ]
    },
    {
      "cell_type": "code",
      "metadata": {
        "id": "D19QIVrzbwBd"
      },
      "source": [
        "drop_cols(['id','grade','emp_title','title','zip_code','policy_code', 'url','open_acc_6m', 'open_act_il', 'open_il_12m','open_il_24m', 'mths_since_rcnt_il', 'total_bal_il', 'il_util','open_rv_12m','open_rv_24m','open_rv_24m','max_bal_bc','all_util','inq_fi','total_cu_tl','inq_last_12m'])"
      ],
      "execution_count": null,
      "outputs": []
    },
    {
      "cell_type": "code",
      "metadata": {
        "id": "FbknPB1rcNz6"
      },
      "source": [
        "# Fix the term feature\n",
        "df['term'].sample(5)\n",
        "df['term'] = df['term'].apply(lambda s: np.int8(s.split()[0]))"
      ],
      "execution_count": null,
      "outputs": []
    },
    {
      "cell_type": "code",
      "metadata": {
        "colab": {
          "base_uri": "https://localhost:8080/"
        },
        "id": "Uyvk6zVec8jN",
        "outputId": "df0891d6-251e-4c69-ba5a-75bb13fc20f3"
      },
      "source": [
        "# Fix the emp_length feature (convert to integer)\n",
        "df['emp_length'].replace('10+ years', '10 years', inplace=True)\n",
        "df['emp_length'].replace('< 1 year', '0 years', inplace=True)\n",
        "df['emp_length'].value_counts(dropna=False).sort_index()\n",
        "df.emp_length.map( lambda x: str(x).split()[0]).value_counts(dropna=True).sort_index()\n",
        "df['emp_length'] = df.emp_length.map(lambda x: float(str(x).split()[0]))\n",
        "df['emp_length'].sample(5)"
      ],
      "execution_count": null,
      "outputs": [
        {
          "output_type": "execute_result",
          "data": {
            "text/plain": [
              "66116     6.0\n",
              "77747     6.0\n",
              "19028     0.0\n",
              "47149     5.0\n",
              "42952    10.0\n",
              "Name: emp_length, dtype: float64"
            ]
          },
          "metadata": {
            "tags": []
          },
          "execution_count": 439
        }
      ]
    },
    {
      "cell_type": "code",
      "metadata": {
        "id": "eFWmYW7QpM3b"
      },
      "source": [
        "# Fix the int_rate feature\n",
        "df['int_rate'].replace(regex=True, inplace=True, to_replace=r'%', value=r'')\n",
        "df['int_rate'] = df['int_rate'].apply(pd.to_numeric, errors='coerce')"
      ],
      "execution_count": null,
      "outputs": []
    },
    {
      "cell_type": "code",
      "metadata": {
        "id": "KVmJ5UJ9dg_K"
      },
      "source": [
        "# Fix the annual income variable, use log-transform since there is a large range of variation, we log-transform the values.\n",
        "df['annual_inc'] = df['annual_inc'].apply(lambda x:np.log10(x+1))"
      ],
      "execution_count": null,
      "outputs": []
    },
    {
      "cell_type": "code",
      "metadata": {
        "colab": {
          "base_uri": "https://localhost:8080/"
        },
        "id": "b7QLmA9tdrjx",
        "outputId": "14fc4c5e-7357-425c-d168-21886dbba284"
      },
      "source": [
        "# fix earliest_cr_line to datetime variable\n",
        "from datetime import datetime\n",
        "\n",
        "df.earliest_cr_line = pd.to_datetime(df.earliest_cr_line)\n",
        "dttoday = datetime.now().strftime('%Y-%m-%d')\n",
        "df.earliest_cr_line = df.earliest_cr_line.apply(lambda x:(np.timedelta64((x - pd.Timestamp(dttoday)),'D').astype(int))/-365)\n",
        "df.earliest_cr_line.shape"
      ],
      "execution_count": null,
      "outputs": [
        {
          "output_type": "execute_result",
          "data": {
            "text/plain": [
              "(37761,)"
            ]
          },
          "metadata": {
            "tags": []
          },
          "execution_count": 442
        }
      ]
    },
    {
      "cell_type": "code",
      "metadata": {
        "id": "J1BLMKRkeNz8"
      },
      "source": [
        "# create new variable fico_score, which is the mean value of fico_low and fico_high\n",
        "df['fico_score'] = (df['fico_range_low'] + df['fico_range_high'])/2.\n",
        "drop_cols(['fico_range_high','fico_range_low'])"
      ],
      "execution_count": null,
      "outputs": []
    },
    {
      "cell_type": "code",
      "metadata": {
        "id": "Y4ZV3nT-egud"
      },
      "source": [
        "# Change the bin width of pub_rec\n",
        "df.pub_rec = df.pub_rec.map(lambda x: 3 if x >2.0 else x)"
      ],
      "execution_count": null,
      "outputs": []
    },
    {
      "cell_type": "code",
      "metadata": {
        "id": "ETt68onjewKi"
      },
      "source": [
        "# Fix revol_bal\n",
        "df['revol_bal'] = df['revol_bal'].apply(lambda x:np.log10(x+1))"
      ],
      "execution_count": null,
      "outputs": []
    },
    {
      "cell_type": "code",
      "metadata": {
        "id": "rQt14X4Kr679"
      },
      "source": [
        "# Fix revol_util\n",
        "df['revol_util'] = df['revol_util'].replace(regex=True, inplace=False, to_replace=r'%', value=r'')"
      ],
      "execution_count": null,
      "outputs": []
    },
    {
      "cell_type": "code",
      "metadata": {
        "id": "ROYspMA4yVCR"
      },
      "source": [
        "df['revol_util'] = df['revol_util'].apply(pd.to_numeric, errors='coerce')"
      ],
      "execution_count": null,
      "outputs": []
    },
    {
      "cell_type": "code",
      "metadata": {
        "colab": {
          "base_uri": "https://localhost:8080/",
          "height": 291
        },
        "id": "Mp9HQqc_xSiD",
        "outputId": "97db1bbe-7b0f-4980-b0bb-0edcfd49ae74"
      },
      "source": [
        "df.head()"
      ],
      "execution_count": null,
      "outputs": [
        {
          "output_type": "execute_result",
          "data": {
            "text/html": [
              "<div>\n",
              "<style scoped>\n",
              "    .dataframe tbody tr th:only-of-type {\n",
              "        vertical-align: middle;\n",
              "    }\n",
              "\n",
              "    .dataframe tbody tr th {\n",
              "        vertical-align: top;\n",
              "    }\n",
              "\n",
              "    .dataframe thead th {\n",
              "        text-align: right;\n",
              "    }\n",
              "</style>\n",
              "<table border=\"1\" class=\"dataframe\">\n",
              "  <thead>\n",
              "    <tr style=\"text-align: right;\">\n",
              "      <th></th>\n",
              "      <th>loan_amnt</th>\n",
              "      <th>term</th>\n",
              "      <th>int_rate</th>\n",
              "      <th>installment</th>\n",
              "      <th>sub_grade</th>\n",
              "      <th>emp_length</th>\n",
              "      <th>home_ownership</th>\n",
              "      <th>annual_inc</th>\n",
              "      <th>verification_status</th>\n",
              "      <th>issue_d</th>\n",
              "      <th>loan_status</th>\n",
              "      <th>purpose</th>\n",
              "      <th>addr_state</th>\n",
              "      <th>dti</th>\n",
              "      <th>earliest_cr_line</th>\n",
              "      <th>open_acc</th>\n",
              "      <th>pub_rec</th>\n",
              "      <th>revol_bal</th>\n",
              "      <th>revol_util</th>\n",
              "      <th>total_acc</th>\n",
              "      <th>initial_list_status</th>\n",
              "      <th>application_type</th>\n",
              "      <th>mo_sin_old_il_acct</th>\n",
              "      <th>mo_sin_old_rev_tl_op</th>\n",
              "      <th>mort_acc</th>\n",
              "      <th>pub_rec_bankruptcies</th>\n",
              "      <th>fico_score</th>\n",
              "    </tr>\n",
              "  </thead>\n",
              "  <tbody>\n",
              "    <tr>\n",
              "      <th>1</th>\n",
              "      <td>6500.0</td>\n",
              "      <td>36</td>\n",
              "      <td>8.81</td>\n",
              "      <td>206.13</td>\n",
              "      <td>A5</td>\n",
              "      <td>10.0</td>\n",
              "      <td>OWN</td>\n",
              "      <td>4.929424</td>\n",
              "      <td>Source Verified</td>\n",
              "      <td>Mar-2019</td>\n",
              "      <td>Fully Paid</td>\n",
              "      <td>debt_consolidation</td>\n",
              "      <td>AZ</td>\n",
              "      <td>21.62</td>\n",
              "      <td>12.843836</td>\n",
              "      <td>5.0</td>\n",
              "      <td>0.0</td>\n",
              "      <td>3.272074</td>\n",
              "      <td>33.4</td>\n",
              "      <td>10.0</td>\n",
              "      <td>f</td>\n",
              "      <td>Individual</td>\n",
              "      <td>131.0</td>\n",
              "      <td>36.0</td>\n",
              "      <td>1.0</td>\n",
              "      <td>0.0</td>\n",
              "      <td>687.0</td>\n",
              "    </tr>\n",
              "    <tr>\n",
              "      <th>5</th>\n",
              "      <td>15000.0</td>\n",
              "      <td>36</td>\n",
              "      <td>17.97</td>\n",
              "      <td>542.07</td>\n",
              "      <td>D1</td>\n",
              "      <td>5.0</td>\n",
              "      <td>MORTGAGE</td>\n",
              "      <td>4.765229</td>\n",
              "      <td>Verified</td>\n",
              "      <td>Mar-2019</td>\n",
              "      <td>Fully Paid</td>\n",
              "      <td>debt_consolidation</td>\n",
              "      <td>CA</td>\n",
              "      <td>38.53</td>\n",
              "      <td>15.347945</td>\n",
              "      <td>9.0</td>\n",
              "      <td>0.0</td>\n",
              "      <td>4.826308</td>\n",
              "      <td>66.4</td>\n",
              "      <td>18.0</td>\n",
              "      <td>w</td>\n",
              "      <td>Individual</td>\n",
              "      <td>163.0</td>\n",
              "      <td>157.0</td>\n",
              "      <td>1.0</td>\n",
              "      <td>0.0</td>\n",
              "      <td>662.0</td>\n",
              "    </tr>\n",
              "    <tr>\n",
              "      <th>11</th>\n",
              "      <td>1000.0</td>\n",
              "      <td>36</td>\n",
              "      <td>7.56</td>\n",
              "      <td>31.14</td>\n",
              "      <td>A3</td>\n",
              "      <td>NaN</td>\n",
              "      <td>RENT</td>\n",
              "      <td>4.414990</td>\n",
              "      <td>Not Verified</td>\n",
              "      <td>Mar-2019</td>\n",
              "      <td>Fully Paid</td>\n",
              "      <td>other</td>\n",
              "      <td>NC</td>\n",
              "      <td>14.73</td>\n",
              "      <td>15.095890</td>\n",
              "      <td>12.0</td>\n",
              "      <td>0.0</td>\n",
              "      <td>2.843855</td>\n",
              "      <td>2.0</td>\n",
              "      <td>23.0</td>\n",
              "      <td>f</td>\n",
              "      <td>Individual</td>\n",
              "      <td>107.0</td>\n",
              "      <td>160.0</td>\n",
              "      <td>0.0</td>\n",
              "      <td>0.0</td>\n",
              "      <td>767.0</td>\n",
              "    </tr>\n",
              "    <tr>\n",
              "      <th>14</th>\n",
              "      <td>3025.0</td>\n",
              "      <td>36</td>\n",
              "      <td>17.19</td>\n",
              "      <td>108.14</td>\n",
              "      <td>C5</td>\n",
              "      <td>3.0</td>\n",
              "      <td>RENT</td>\n",
              "      <td>4.477136</td>\n",
              "      <td>Source Verified</td>\n",
              "      <td>Mar-2019</td>\n",
              "      <td>Fully Paid</td>\n",
              "      <td>debt_consolidation</td>\n",
              "      <td>GA</td>\n",
              "      <td>11.88</td>\n",
              "      <td>15.432877</td>\n",
              "      <td>9.0</td>\n",
              "      <td>0.0</td>\n",
              "      <td>3.460296</td>\n",
              "      <td>43.7</td>\n",
              "      <td>22.0</td>\n",
              "      <td>w</td>\n",
              "      <td>Individual</td>\n",
              "      <td>164.0</td>\n",
              "      <td>149.0</td>\n",
              "      <td>3.0</td>\n",
              "      <td>0.0</td>\n",
              "      <td>667.0</td>\n",
              "    </tr>\n",
              "    <tr>\n",
              "      <th>15</th>\n",
              "      <td>2000.0</td>\n",
              "      <td>36</td>\n",
              "      <td>16.40</td>\n",
              "      <td>70.71</td>\n",
              "      <td>C4</td>\n",
              "      <td>3.0</td>\n",
              "      <td>RENT</td>\n",
              "      <td>4.724284</td>\n",
              "      <td>Source Verified</td>\n",
              "      <td>Mar-2019</td>\n",
              "      <td>Fully Paid</td>\n",
              "      <td>car</td>\n",
              "      <td>TX</td>\n",
              "      <td>20.86</td>\n",
              "      <td>11.260274</td>\n",
              "      <td>22.0</td>\n",
              "      <td>0.0</td>\n",
              "      <td>4.184691</td>\n",
              "      <td>34.8</td>\n",
              "      <td>44.0</td>\n",
              "      <td>f</td>\n",
              "      <td>Individual</td>\n",
              "      <td>114.0</td>\n",
              "      <td>43.0</td>\n",
              "      <td>0.0</td>\n",
              "      <td>0.0</td>\n",
              "      <td>682.0</td>\n",
              "    </tr>\n",
              "  </tbody>\n",
              "</table>\n",
              "</div>"
            ],
            "text/plain": [
              "    loan_amnt  term  int_rate  ...  mort_acc pub_rec_bankruptcies  fico_score\n",
              "1      6500.0    36      8.81  ...       1.0                  0.0       687.0\n",
              "5     15000.0    36     17.97  ...       1.0                  0.0       662.0\n",
              "11     1000.0    36      7.56  ...       0.0                  0.0       767.0\n",
              "14     3025.0    36     17.19  ...       3.0                  0.0       667.0\n",
              "15     2000.0    36     16.40  ...       0.0                  0.0       682.0\n",
              "\n",
              "[5 rows x 27 columns]"
            ]
          },
          "metadata": {
            "tags": []
          },
          "execution_count": 448
        }
      ]
    },
    {
      "cell_type": "code",
      "metadata": {
        "colab": {
          "base_uri": "https://localhost:8080/"
        },
        "id": "GHeqUpY0exw9",
        "outputId": "2e836e5b-7786-41de-a053-0cd1c3fb86a8"
      },
      "source": [
        "# Change target variable to be a binary variable. Fully Paid = 0, Charged Off = 1\n",
        "df['Charged_Off'] = df['loan_status'].apply(lambda s: np.float(s == 'Charged Off'))\n",
        "drop_cols('loan_status')\n",
        "df.shape"
      ],
      "execution_count": null,
      "outputs": [
        {
          "output_type": "execute_result",
          "data": {
            "text/plain": [
              "(37761, 27)"
            ]
          },
          "metadata": {
            "tags": []
          },
          "execution_count": 449
        }
      ]
    },
    {
      "cell_type": "code",
      "metadata": {
        "colab": {
          "base_uri": "https://localhost:8080/",
          "height": 291
        },
        "id": "USiuZ4XLfRmM",
        "outputId": "8d379da7-6464-4519-ba8d-efad026f5aad"
      },
      "source": [
        "df.head()"
      ],
      "execution_count": null,
      "outputs": [
        {
          "output_type": "execute_result",
          "data": {
            "text/html": [
              "<div>\n",
              "<style scoped>\n",
              "    .dataframe tbody tr th:only-of-type {\n",
              "        vertical-align: middle;\n",
              "    }\n",
              "\n",
              "    .dataframe tbody tr th {\n",
              "        vertical-align: top;\n",
              "    }\n",
              "\n",
              "    .dataframe thead th {\n",
              "        text-align: right;\n",
              "    }\n",
              "</style>\n",
              "<table border=\"1\" class=\"dataframe\">\n",
              "  <thead>\n",
              "    <tr style=\"text-align: right;\">\n",
              "      <th></th>\n",
              "      <th>loan_amnt</th>\n",
              "      <th>term</th>\n",
              "      <th>int_rate</th>\n",
              "      <th>installment</th>\n",
              "      <th>sub_grade</th>\n",
              "      <th>emp_length</th>\n",
              "      <th>home_ownership</th>\n",
              "      <th>annual_inc</th>\n",
              "      <th>verification_status</th>\n",
              "      <th>issue_d</th>\n",
              "      <th>purpose</th>\n",
              "      <th>addr_state</th>\n",
              "      <th>dti</th>\n",
              "      <th>earliest_cr_line</th>\n",
              "      <th>open_acc</th>\n",
              "      <th>pub_rec</th>\n",
              "      <th>revol_bal</th>\n",
              "      <th>revol_util</th>\n",
              "      <th>total_acc</th>\n",
              "      <th>initial_list_status</th>\n",
              "      <th>application_type</th>\n",
              "      <th>mo_sin_old_il_acct</th>\n",
              "      <th>mo_sin_old_rev_tl_op</th>\n",
              "      <th>mort_acc</th>\n",
              "      <th>pub_rec_bankruptcies</th>\n",
              "      <th>fico_score</th>\n",
              "      <th>Charged_Off</th>\n",
              "    </tr>\n",
              "  </thead>\n",
              "  <tbody>\n",
              "    <tr>\n",
              "      <th>1</th>\n",
              "      <td>6500.0</td>\n",
              "      <td>36</td>\n",
              "      <td>8.81</td>\n",
              "      <td>206.13</td>\n",
              "      <td>A5</td>\n",
              "      <td>10.0</td>\n",
              "      <td>OWN</td>\n",
              "      <td>4.929424</td>\n",
              "      <td>Source Verified</td>\n",
              "      <td>Mar-2019</td>\n",
              "      <td>debt_consolidation</td>\n",
              "      <td>AZ</td>\n",
              "      <td>21.62</td>\n",
              "      <td>12.843836</td>\n",
              "      <td>5.0</td>\n",
              "      <td>0.0</td>\n",
              "      <td>3.272074</td>\n",
              "      <td>33.4</td>\n",
              "      <td>10.0</td>\n",
              "      <td>f</td>\n",
              "      <td>Individual</td>\n",
              "      <td>131.0</td>\n",
              "      <td>36.0</td>\n",
              "      <td>1.0</td>\n",
              "      <td>0.0</td>\n",
              "      <td>687.0</td>\n",
              "      <td>0.0</td>\n",
              "    </tr>\n",
              "    <tr>\n",
              "      <th>5</th>\n",
              "      <td>15000.0</td>\n",
              "      <td>36</td>\n",
              "      <td>17.97</td>\n",
              "      <td>542.07</td>\n",
              "      <td>D1</td>\n",
              "      <td>5.0</td>\n",
              "      <td>MORTGAGE</td>\n",
              "      <td>4.765229</td>\n",
              "      <td>Verified</td>\n",
              "      <td>Mar-2019</td>\n",
              "      <td>debt_consolidation</td>\n",
              "      <td>CA</td>\n",
              "      <td>38.53</td>\n",
              "      <td>15.347945</td>\n",
              "      <td>9.0</td>\n",
              "      <td>0.0</td>\n",
              "      <td>4.826308</td>\n",
              "      <td>66.4</td>\n",
              "      <td>18.0</td>\n",
              "      <td>w</td>\n",
              "      <td>Individual</td>\n",
              "      <td>163.0</td>\n",
              "      <td>157.0</td>\n",
              "      <td>1.0</td>\n",
              "      <td>0.0</td>\n",
              "      <td>662.0</td>\n",
              "      <td>0.0</td>\n",
              "    </tr>\n",
              "    <tr>\n",
              "      <th>11</th>\n",
              "      <td>1000.0</td>\n",
              "      <td>36</td>\n",
              "      <td>7.56</td>\n",
              "      <td>31.14</td>\n",
              "      <td>A3</td>\n",
              "      <td>NaN</td>\n",
              "      <td>RENT</td>\n",
              "      <td>4.414990</td>\n",
              "      <td>Not Verified</td>\n",
              "      <td>Mar-2019</td>\n",
              "      <td>other</td>\n",
              "      <td>NC</td>\n",
              "      <td>14.73</td>\n",
              "      <td>15.095890</td>\n",
              "      <td>12.0</td>\n",
              "      <td>0.0</td>\n",
              "      <td>2.843855</td>\n",
              "      <td>2.0</td>\n",
              "      <td>23.0</td>\n",
              "      <td>f</td>\n",
              "      <td>Individual</td>\n",
              "      <td>107.0</td>\n",
              "      <td>160.0</td>\n",
              "      <td>0.0</td>\n",
              "      <td>0.0</td>\n",
              "      <td>767.0</td>\n",
              "      <td>0.0</td>\n",
              "    </tr>\n",
              "    <tr>\n",
              "      <th>14</th>\n",
              "      <td>3025.0</td>\n",
              "      <td>36</td>\n",
              "      <td>17.19</td>\n",
              "      <td>108.14</td>\n",
              "      <td>C5</td>\n",
              "      <td>3.0</td>\n",
              "      <td>RENT</td>\n",
              "      <td>4.477136</td>\n",
              "      <td>Source Verified</td>\n",
              "      <td>Mar-2019</td>\n",
              "      <td>debt_consolidation</td>\n",
              "      <td>GA</td>\n",
              "      <td>11.88</td>\n",
              "      <td>15.432877</td>\n",
              "      <td>9.0</td>\n",
              "      <td>0.0</td>\n",
              "      <td>3.460296</td>\n",
              "      <td>43.7</td>\n",
              "      <td>22.0</td>\n",
              "      <td>w</td>\n",
              "      <td>Individual</td>\n",
              "      <td>164.0</td>\n",
              "      <td>149.0</td>\n",
              "      <td>3.0</td>\n",
              "      <td>0.0</td>\n",
              "      <td>667.0</td>\n",
              "      <td>0.0</td>\n",
              "    </tr>\n",
              "    <tr>\n",
              "      <th>15</th>\n",
              "      <td>2000.0</td>\n",
              "      <td>36</td>\n",
              "      <td>16.40</td>\n",
              "      <td>70.71</td>\n",
              "      <td>C4</td>\n",
              "      <td>3.0</td>\n",
              "      <td>RENT</td>\n",
              "      <td>4.724284</td>\n",
              "      <td>Source Verified</td>\n",
              "      <td>Mar-2019</td>\n",
              "      <td>car</td>\n",
              "      <td>TX</td>\n",
              "      <td>20.86</td>\n",
              "      <td>11.260274</td>\n",
              "      <td>22.0</td>\n",
              "      <td>0.0</td>\n",
              "      <td>4.184691</td>\n",
              "      <td>34.8</td>\n",
              "      <td>44.0</td>\n",
              "      <td>f</td>\n",
              "      <td>Individual</td>\n",
              "      <td>114.0</td>\n",
              "      <td>43.0</td>\n",
              "      <td>0.0</td>\n",
              "      <td>0.0</td>\n",
              "      <td>682.0</td>\n",
              "      <td>0.0</td>\n",
              "    </tr>\n",
              "  </tbody>\n",
              "</table>\n",
              "</div>"
            ],
            "text/plain": [
              "    loan_amnt  term  int_rate  ...  pub_rec_bankruptcies fico_score  Charged_Off\n",
              "1      6500.0    36      8.81  ...                   0.0      687.0          0.0\n",
              "5     15000.0    36     17.97  ...                   0.0      662.0          0.0\n",
              "11     1000.0    36      7.56  ...                   0.0      767.0          0.0\n",
              "14     3025.0    36     17.19  ...                   0.0      667.0          0.0\n",
              "15     2000.0    36     16.40  ...                   0.0      682.0          0.0\n",
              "\n",
              "[5 rows x 27 columns]"
            ]
          },
          "metadata": {
            "tags": []
          },
          "execution_count": 450
        }
      ]
    },
    {
      "cell_type": "code",
      "metadata": {
        "colab": {
          "base_uri": "https://localhost:8080/"
        },
        "id": "DvYP2jW3hjBV",
        "outputId": "10d2c722-bc24-42e9-f719-eaa5007ec38e"
      },
      "source": [
        "# drop columns that are not linearly correlated with the target variable. \n",
        "drop_cols(['installment', 'mo_sin_old_rev_tl_op','total_acc','pub_rec_bankruptcies'])\n",
        "df.shape"
      ],
      "execution_count": null,
      "outputs": [
        {
          "output_type": "execute_result",
          "data": {
            "text/plain": [
              "(37761, 23)"
            ]
          },
          "metadata": {
            "tags": []
          },
          "execution_count": 451
        }
      ]
    },
    {
      "cell_type": "code",
      "metadata": {
        "colab": {
          "base_uri": "https://localhost:8080/",
          "height": 291
        },
        "id": "UyUAKMG5h7wB",
        "outputId": "5776161b-4d11-4c01-84b6-198e493e0ec3"
      },
      "source": [
        "df.head()"
      ],
      "execution_count": null,
      "outputs": [
        {
          "output_type": "execute_result",
          "data": {
            "text/html": [
              "<div>\n",
              "<style scoped>\n",
              "    .dataframe tbody tr th:only-of-type {\n",
              "        vertical-align: middle;\n",
              "    }\n",
              "\n",
              "    .dataframe tbody tr th {\n",
              "        vertical-align: top;\n",
              "    }\n",
              "\n",
              "    .dataframe thead th {\n",
              "        text-align: right;\n",
              "    }\n",
              "</style>\n",
              "<table border=\"1\" class=\"dataframe\">\n",
              "  <thead>\n",
              "    <tr style=\"text-align: right;\">\n",
              "      <th></th>\n",
              "      <th>loan_amnt</th>\n",
              "      <th>term</th>\n",
              "      <th>int_rate</th>\n",
              "      <th>sub_grade</th>\n",
              "      <th>emp_length</th>\n",
              "      <th>home_ownership</th>\n",
              "      <th>annual_inc</th>\n",
              "      <th>verification_status</th>\n",
              "      <th>issue_d</th>\n",
              "      <th>purpose</th>\n",
              "      <th>addr_state</th>\n",
              "      <th>dti</th>\n",
              "      <th>earliest_cr_line</th>\n",
              "      <th>open_acc</th>\n",
              "      <th>pub_rec</th>\n",
              "      <th>revol_bal</th>\n",
              "      <th>revol_util</th>\n",
              "      <th>initial_list_status</th>\n",
              "      <th>application_type</th>\n",
              "      <th>mo_sin_old_il_acct</th>\n",
              "      <th>mort_acc</th>\n",
              "      <th>fico_score</th>\n",
              "      <th>Charged_Off</th>\n",
              "    </tr>\n",
              "  </thead>\n",
              "  <tbody>\n",
              "    <tr>\n",
              "      <th>1</th>\n",
              "      <td>6500.0</td>\n",
              "      <td>36</td>\n",
              "      <td>8.81</td>\n",
              "      <td>A5</td>\n",
              "      <td>10.0</td>\n",
              "      <td>OWN</td>\n",
              "      <td>4.929424</td>\n",
              "      <td>Source Verified</td>\n",
              "      <td>Mar-2019</td>\n",
              "      <td>debt_consolidation</td>\n",
              "      <td>AZ</td>\n",
              "      <td>21.62</td>\n",
              "      <td>12.843836</td>\n",
              "      <td>5.0</td>\n",
              "      <td>0.0</td>\n",
              "      <td>3.272074</td>\n",
              "      <td>33.4</td>\n",
              "      <td>f</td>\n",
              "      <td>Individual</td>\n",
              "      <td>131.0</td>\n",
              "      <td>1.0</td>\n",
              "      <td>687.0</td>\n",
              "      <td>0.0</td>\n",
              "    </tr>\n",
              "    <tr>\n",
              "      <th>5</th>\n",
              "      <td>15000.0</td>\n",
              "      <td>36</td>\n",
              "      <td>17.97</td>\n",
              "      <td>D1</td>\n",
              "      <td>5.0</td>\n",
              "      <td>MORTGAGE</td>\n",
              "      <td>4.765229</td>\n",
              "      <td>Verified</td>\n",
              "      <td>Mar-2019</td>\n",
              "      <td>debt_consolidation</td>\n",
              "      <td>CA</td>\n",
              "      <td>38.53</td>\n",
              "      <td>15.347945</td>\n",
              "      <td>9.0</td>\n",
              "      <td>0.0</td>\n",
              "      <td>4.826308</td>\n",
              "      <td>66.4</td>\n",
              "      <td>w</td>\n",
              "      <td>Individual</td>\n",
              "      <td>163.0</td>\n",
              "      <td>1.0</td>\n",
              "      <td>662.0</td>\n",
              "      <td>0.0</td>\n",
              "    </tr>\n",
              "    <tr>\n",
              "      <th>11</th>\n",
              "      <td>1000.0</td>\n",
              "      <td>36</td>\n",
              "      <td>7.56</td>\n",
              "      <td>A3</td>\n",
              "      <td>NaN</td>\n",
              "      <td>RENT</td>\n",
              "      <td>4.414990</td>\n",
              "      <td>Not Verified</td>\n",
              "      <td>Mar-2019</td>\n",
              "      <td>other</td>\n",
              "      <td>NC</td>\n",
              "      <td>14.73</td>\n",
              "      <td>15.095890</td>\n",
              "      <td>12.0</td>\n",
              "      <td>0.0</td>\n",
              "      <td>2.843855</td>\n",
              "      <td>2.0</td>\n",
              "      <td>f</td>\n",
              "      <td>Individual</td>\n",
              "      <td>107.0</td>\n",
              "      <td>0.0</td>\n",
              "      <td>767.0</td>\n",
              "      <td>0.0</td>\n",
              "    </tr>\n",
              "    <tr>\n",
              "      <th>14</th>\n",
              "      <td>3025.0</td>\n",
              "      <td>36</td>\n",
              "      <td>17.19</td>\n",
              "      <td>C5</td>\n",
              "      <td>3.0</td>\n",
              "      <td>RENT</td>\n",
              "      <td>4.477136</td>\n",
              "      <td>Source Verified</td>\n",
              "      <td>Mar-2019</td>\n",
              "      <td>debt_consolidation</td>\n",
              "      <td>GA</td>\n",
              "      <td>11.88</td>\n",
              "      <td>15.432877</td>\n",
              "      <td>9.0</td>\n",
              "      <td>0.0</td>\n",
              "      <td>3.460296</td>\n",
              "      <td>43.7</td>\n",
              "      <td>w</td>\n",
              "      <td>Individual</td>\n",
              "      <td>164.0</td>\n",
              "      <td>3.0</td>\n",
              "      <td>667.0</td>\n",
              "      <td>0.0</td>\n",
              "    </tr>\n",
              "    <tr>\n",
              "      <th>15</th>\n",
              "      <td>2000.0</td>\n",
              "      <td>36</td>\n",
              "      <td>16.40</td>\n",
              "      <td>C4</td>\n",
              "      <td>3.0</td>\n",
              "      <td>RENT</td>\n",
              "      <td>4.724284</td>\n",
              "      <td>Source Verified</td>\n",
              "      <td>Mar-2019</td>\n",
              "      <td>car</td>\n",
              "      <td>TX</td>\n",
              "      <td>20.86</td>\n",
              "      <td>11.260274</td>\n",
              "      <td>22.0</td>\n",
              "      <td>0.0</td>\n",
              "      <td>4.184691</td>\n",
              "      <td>34.8</td>\n",
              "      <td>f</td>\n",
              "      <td>Individual</td>\n",
              "      <td>114.0</td>\n",
              "      <td>0.0</td>\n",
              "      <td>682.0</td>\n",
              "      <td>0.0</td>\n",
              "    </tr>\n",
              "  </tbody>\n",
              "</table>\n",
              "</div>"
            ],
            "text/plain": [
              "    loan_amnt  term  int_rate  ... mort_acc  fico_score Charged_Off\n",
              "1      6500.0    36      8.81  ...      1.0       687.0         0.0\n",
              "5     15000.0    36     17.97  ...      1.0       662.0         0.0\n",
              "11     1000.0    36      7.56  ...      0.0       767.0         0.0\n",
              "14     3025.0    36     17.19  ...      3.0       667.0         0.0\n",
              "15     2000.0    36     16.40  ...      0.0       682.0         0.0\n",
              "\n",
              "[5 rows x 23 columns]"
            ]
          },
          "metadata": {
            "tags": []
          },
          "execution_count": 452
        }
      ]
    },
    {
      "cell_type": "code",
      "metadata": {
        "id": "gxm0rsedkPF6"
      },
      "source": [
        "dummy_list =['sub_grade','home_ownership','verification_status','purpose','addr_state','initial_list_status','application_type']\n",
        "df[dummy_list].isnull().any()\n",
        "df = pd.get_dummies(df, columns=dummy_list, drop_first=True)"
      ],
      "execution_count": null,
      "outputs": []
    },
    {
      "cell_type": "markdown",
      "metadata": {
        "id": "skUOIed1kZvb"
      },
      "source": [
        "I will use the earlier funded loans to predict the later funded loans"
      ]
    },
    {
      "cell_type": "code",
      "metadata": {
        "colab": {
          "base_uri": "https://localhost:8080/"
        },
        "id": "3nyvClPYkYpU",
        "outputId": "cc921ea3-7d85-4f79-d38f-cd12308d8d68"
      },
      "source": [
        "df['issue_d'].sample()"
      ],
      "execution_count": null,
      "outputs": [
        {
          "output_type": "execute_result",
          "data": {
            "text/plain": [
              "2871    Mar-2019\n",
              "Name: issue_d, dtype: object"
            ]
          },
          "metadata": {
            "tags": []
          },
          "execution_count": 456
        }
      ]
    },
    {
      "cell_type": "code",
      "metadata": {
        "colab": {
          "base_uri": "https://localhost:8080/"
        },
        "id": "J3apwBEzkfR6",
        "outputId": "d2a77199-60d4-487b-f286-13a163a22b87"
      },
      "source": [
        "df['issue_d'] = pd.to_datetime(df['issue_d'])\n",
        "df['issue_d'].sample()"
      ],
      "execution_count": null,
      "outputs": [
        {
          "output_type": "execute_result",
          "data": {
            "text/plain": [
              "68189   2019-02-01\n",
              "Name: issue_d, dtype: datetime64[ns]"
            ]
          },
          "metadata": {
            "tags": []
          },
          "execution_count": 457
        }
      ]
    },
    {
      "cell_type": "markdown",
      "metadata": {
        "id": "Fvt-Qz1nkmiM"
      },
      "source": [
        "I will split the train/test data into 80/20"
      ]
    },
    {
      "cell_type": "code",
      "metadata": {
        "id": "_ygNvb8zklw-"
      },
      "source": [
        "df_train = df.loc[df['issue_d']  < df['issue_d'].quantile(0.8)]\n",
        "df_test =  df.loc[df['issue_d'] >= df['issue_d'].quantile(0.8)]"
      ],
      "execution_count": null,
      "outputs": []
    },
    {
      "cell_type": "code",
      "metadata": {
        "id": "pYUVM7gkkr8x"
      },
      "source": [
        "df_train.drop('issue_d', axis=1, inplace=True)\n",
        "df_test.drop('issue_d', axis=1, inplace=True)"
      ],
      "execution_count": null,
      "outputs": []
    },
    {
      "cell_type": "markdown",
      "metadata": {
        "id": "hJ-jc_iikyEv"
      },
      "source": [
        "I will now separate the predictor variables from the target variable"
      ]
    },
    {
      "cell_type": "code",
      "metadata": {
        "id": "mShp2YydkwPH"
      },
      "source": [
        "X_train = df_train.drop(['Charged_Off'], axis=1)\n",
        "y_train = df_train.loc[:, 'Charged_Off']\n",
        "\n",
        "X_test = df_test.drop(['Charged_Off'], axis=1)\n",
        "y_test = df_test['Charged_Off']"
      ],
      "execution_count": null,
      "outputs": []
    },
    {
      "cell_type": "code",
      "metadata": {
        "colab": {
          "base_uri": "https://localhost:8080/",
          "height": 254
        },
        "id": "f5yPr01dp75f",
        "outputId": "7cf80398-c467-450d-8797-55486bb2d0d2"
      },
      "source": [
        "X_train.head()"
      ],
      "execution_count": null,
      "outputs": [
        {
          "output_type": "execute_result",
          "data": {
            "text/html": [
              "<div>\n",
              "<style scoped>\n",
              "    .dataframe tbody tr th:only-of-type {\n",
              "        vertical-align: middle;\n",
              "    }\n",
              "\n",
              "    .dataframe tbody tr th {\n",
              "        vertical-align: top;\n",
              "    }\n",
              "\n",
              "    .dataframe thead th {\n",
              "        text-align: right;\n",
              "    }\n",
              "</style>\n",
              "<table border=\"1\" class=\"dataframe\">\n",
              "  <thead>\n",
              "    <tr style=\"text-align: right;\">\n",
              "      <th></th>\n",
              "      <th>loan_amnt</th>\n",
              "      <th>term</th>\n",
              "      <th>int_rate</th>\n",
              "      <th>emp_length</th>\n",
              "      <th>annual_inc</th>\n",
              "      <th>dti</th>\n",
              "      <th>earliest_cr_line</th>\n",
              "      <th>open_acc</th>\n",
              "      <th>pub_rec</th>\n",
              "      <th>revol_bal</th>\n",
              "      <th>revol_util</th>\n",
              "      <th>mo_sin_old_il_acct</th>\n",
              "      <th>mort_acc</th>\n",
              "      <th>fico_score</th>\n",
              "      <th>sub_grade_A2</th>\n",
              "      <th>sub_grade_A3</th>\n",
              "      <th>sub_grade_A4</th>\n",
              "      <th>sub_grade_A5</th>\n",
              "      <th>sub_grade_B1</th>\n",
              "      <th>sub_grade_B2</th>\n",
              "      <th>sub_grade_B3</th>\n",
              "      <th>sub_grade_B4</th>\n",
              "      <th>sub_grade_B5</th>\n",
              "      <th>sub_grade_C1</th>\n",
              "      <th>sub_grade_C2</th>\n",
              "      <th>sub_grade_C3</th>\n",
              "      <th>sub_grade_C4</th>\n",
              "      <th>sub_grade_C5</th>\n",
              "      <th>sub_grade_D1</th>\n",
              "      <th>sub_grade_D2</th>\n",
              "      <th>sub_grade_D3</th>\n",
              "      <th>sub_grade_D4</th>\n",
              "      <th>sub_grade_D5</th>\n",
              "      <th>sub_grade_E1</th>\n",
              "      <th>sub_grade_E2</th>\n",
              "      <th>sub_grade_E3</th>\n",
              "      <th>sub_grade_E4</th>\n",
              "      <th>sub_grade_E5</th>\n",
              "      <th>sub_grade_F1</th>\n",
              "      <th>sub_grade_F2</th>\n",
              "      <th>...</th>\n",
              "      <th>addr_state_ID</th>\n",
              "      <th>addr_state_IL</th>\n",
              "      <th>addr_state_IN</th>\n",
              "      <th>addr_state_KS</th>\n",
              "      <th>addr_state_KY</th>\n",
              "      <th>addr_state_LA</th>\n",
              "      <th>addr_state_MA</th>\n",
              "      <th>addr_state_MD</th>\n",
              "      <th>addr_state_ME</th>\n",
              "      <th>addr_state_MI</th>\n",
              "      <th>addr_state_MN</th>\n",
              "      <th>addr_state_MO</th>\n",
              "      <th>addr_state_MS</th>\n",
              "      <th>addr_state_MT</th>\n",
              "      <th>addr_state_NC</th>\n",
              "      <th>addr_state_ND</th>\n",
              "      <th>addr_state_NE</th>\n",
              "      <th>addr_state_NH</th>\n",
              "      <th>addr_state_NJ</th>\n",
              "      <th>addr_state_NM</th>\n",
              "      <th>addr_state_NV</th>\n",
              "      <th>addr_state_NY</th>\n",
              "      <th>addr_state_OH</th>\n",
              "      <th>addr_state_OK</th>\n",
              "      <th>addr_state_OR</th>\n",
              "      <th>addr_state_PA</th>\n",
              "      <th>addr_state_RI</th>\n",
              "      <th>addr_state_SC</th>\n",
              "      <th>addr_state_SD</th>\n",
              "      <th>addr_state_TN</th>\n",
              "      <th>addr_state_TX</th>\n",
              "      <th>addr_state_UT</th>\n",
              "      <th>addr_state_VA</th>\n",
              "      <th>addr_state_VT</th>\n",
              "      <th>addr_state_WA</th>\n",
              "      <th>addr_state_WI</th>\n",
              "      <th>addr_state_WV</th>\n",
              "      <th>addr_state_WY</th>\n",
              "      <th>initial_list_status_w</th>\n",
              "      <th>application_type_Joint App</th>\n",
              "    </tr>\n",
              "  </thead>\n",
              "  <tbody>\n",
              "    <tr>\n",
              "      <th>22658</th>\n",
              "      <td>35000.0</td>\n",
              "      <td>36</td>\n",
              "      <td>17.19</td>\n",
              "      <td>3.0</td>\n",
              "      <td>5.190335</td>\n",
              "      <td>3.22</td>\n",
              "      <td>25.523288</td>\n",
              "      <td>16.0</td>\n",
              "      <td>0.0</td>\n",
              "      <td>4.160619</td>\n",
              "      <td>17.8</td>\n",
              "      <td>42.0</td>\n",
              "      <td>0.0</td>\n",
              "      <td>672.0</td>\n",
              "      <td>0</td>\n",
              "      <td>0</td>\n",
              "      <td>0</td>\n",
              "      <td>0</td>\n",
              "      <td>0</td>\n",
              "      <td>0</td>\n",
              "      <td>0</td>\n",
              "      <td>0</td>\n",
              "      <td>0</td>\n",
              "      <td>0</td>\n",
              "      <td>0</td>\n",
              "      <td>0</td>\n",
              "      <td>0</td>\n",
              "      <td>1</td>\n",
              "      <td>0</td>\n",
              "      <td>0</td>\n",
              "      <td>0</td>\n",
              "      <td>0</td>\n",
              "      <td>0</td>\n",
              "      <td>0</td>\n",
              "      <td>0</td>\n",
              "      <td>0</td>\n",
              "      <td>0</td>\n",
              "      <td>0</td>\n",
              "      <td>0</td>\n",
              "      <td>0</td>\n",
              "      <td>...</td>\n",
              "      <td>0</td>\n",
              "      <td>0</td>\n",
              "      <td>0</td>\n",
              "      <td>0</td>\n",
              "      <td>0</td>\n",
              "      <td>0</td>\n",
              "      <td>0</td>\n",
              "      <td>0</td>\n",
              "      <td>0</td>\n",
              "      <td>0</td>\n",
              "      <td>0</td>\n",
              "      <td>0</td>\n",
              "      <td>0</td>\n",
              "      <td>0</td>\n",
              "      <td>0</td>\n",
              "      <td>0</td>\n",
              "      <td>0</td>\n",
              "      <td>0</td>\n",
              "      <td>0</td>\n",
              "      <td>0</td>\n",
              "      <td>0</td>\n",
              "      <td>0</td>\n",
              "      <td>0</td>\n",
              "      <td>0</td>\n",
              "      <td>0</td>\n",
              "      <td>0</td>\n",
              "      <td>0</td>\n",
              "      <td>0</td>\n",
              "      <td>0</td>\n",
              "      <td>0</td>\n",
              "      <td>1</td>\n",
              "      <td>0</td>\n",
              "      <td>0</td>\n",
              "      <td>0</td>\n",
              "      <td>0</td>\n",
              "      <td>0</td>\n",
              "      <td>0</td>\n",
              "      <td>0</td>\n",
              "      <td>1</td>\n",
              "      <td>0</td>\n",
              "    </tr>\n",
              "    <tr>\n",
              "      <th>22659</th>\n",
              "      <td>5000.0</td>\n",
              "      <td>36</td>\n",
              "      <td>16.40</td>\n",
              "      <td>4.0</td>\n",
              "      <td>4.778158</td>\n",
              "      <td>11.52</td>\n",
              "      <td>16.682192</td>\n",
              "      <td>10.0</td>\n",
              "      <td>0.0</td>\n",
              "      <td>3.591065</td>\n",
              "      <td>9.0</td>\n",
              "      <td>102.0</td>\n",
              "      <td>0.0</td>\n",
              "      <td>667.0</td>\n",
              "      <td>0</td>\n",
              "      <td>0</td>\n",
              "      <td>0</td>\n",
              "      <td>0</td>\n",
              "      <td>0</td>\n",
              "      <td>0</td>\n",
              "      <td>0</td>\n",
              "      <td>0</td>\n",
              "      <td>0</td>\n",
              "      <td>0</td>\n",
              "      <td>0</td>\n",
              "      <td>0</td>\n",
              "      <td>1</td>\n",
              "      <td>0</td>\n",
              "      <td>0</td>\n",
              "      <td>0</td>\n",
              "      <td>0</td>\n",
              "      <td>0</td>\n",
              "      <td>0</td>\n",
              "      <td>0</td>\n",
              "      <td>0</td>\n",
              "      <td>0</td>\n",
              "      <td>0</td>\n",
              "      <td>0</td>\n",
              "      <td>0</td>\n",
              "      <td>0</td>\n",
              "      <td>...</td>\n",
              "      <td>0</td>\n",
              "      <td>0</td>\n",
              "      <td>0</td>\n",
              "      <td>0</td>\n",
              "      <td>0</td>\n",
              "      <td>0</td>\n",
              "      <td>0</td>\n",
              "      <td>0</td>\n",
              "      <td>0</td>\n",
              "      <td>0</td>\n",
              "      <td>0</td>\n",
              "      <td>0</td>\n",
              "      <td>0</td>\n",
              "      <td>0</td>\n",
              "      <td>0</td>\n",
              "      <td>0</td>\n",
              "      <td>0</td>\n",
              "      <td>0</td>\n",
              "      <td>0</td>\n",
              "      <td>0</td>\n",
              "      <td>0</td>\n",
              "      <td>0</td>\n",
              "      <td>1</td>\n",
              "      <td>0</td>\n",
              "      <td>0</td>\n",
              "      <td>0</td>\n",
              "      <td>0</td>\n",
              "      <td>0</td>\n",
              "      <td>0</td>\n",
              "      <td>0</td>\n",
              "      <td>0</td>\n",
              "      <td>0</td>\n",
              "      <td>0</td>\n",
              "      <td>0</td>\n",
              "      <td>0</td>\n",
              "      <td>0</td>\n",
              "      <td>0</td>\n",
              "      <td>0</td>\n",
              "      <td>1</td>\n",
              "      <td>0</td>\n",
              "    </tr>\n",
              "    <tr>\n",
              "      <th>22662</th>\n",
              "      <td>4500.0</td>\n",
              "      <td>36</td>\n",
              "      <td>13.90</td>\n",
              "      <td>10.0</td>\n",
              "      <td>5.146131</td>\n",
              "      <td>8.33</td>\n",
              "      <td>20.265753</td>\n",
              "      <td>10.0</td>\n",
              "      <td>0.0</td>\n",
              "      <td>3.466868</td>\n",
              "      <td>11.4</td>\n",
              "      <td>175.0</td>\n",
              "      <td>1.0</td>\n",
              "      <td>712.0</td>\n",
              "      <td>0</td>\n",
              "      <td>0</td>\n",
              "      <td>0</td>\n",
              "      <td>0</td>\n",
              "      <td>0</td>\n",
              "      <td>0</td>\n",
              "      <td>0</td>\n",
              "      <td>0</td>\n",
              "      <td>0</td>\n",
              "      <td>1</td>\n",
              "      <td>0</td>\n",
              "      <td>0</td>\n",
              "      <td>0</td>\n",
              "      <td>0</td>\n",
              "      <td>0</td>\n",
              "      <td>0</td>\n",
              "      <td>0</td>\n",
              "      <td>0</td>\n",
              "      <td>0</td>\n",
              "      <td>0</td>\n",
              "      <td>0</td>\n",
              "      <td>0</td>\n",
              "      <td>0</td>\n",
              "      <td>0</td>\n",
              "      <td>0</td>\n",
              "      <td>0</td>\n",
              "      <td>...</td>\n",
              "      <td>0</td>\n",
              "      <td>1</td>\n",
              "      <td>0</td>\n",
              "      <td>0</td>\n",
              "      <td>0</td>\n",
              "      <td>0</td>\n",
              "      <td>0</td>\n",
              "      <td>0</td>\n",
              "      <td>0</td>\n",
              "      <td>0</td>\n",
              "      <td>0</td>\n",
              "      <td>0</td>\n",
              "      <td>0</td>\n",
              "      <td>0</td>\n",
              "      <td>0</td>\n",
              "      <td>0</td>\n",
              "      <td>0</td>\n",
              "      <td>0</td>\n",
              "      <td>0</td>\n",
              "      <td>0</td>\n",
              "      <td>0</td>\n",
              "      <td>0</td>\n",
              "      <td>0</td>\n",
              "      <td>0</td>\n",
              "      <td>0</td>\n",
              "      <td>0</td>\n",
              "      <td>0</td>\n",
              "      <td>0</td>\n",
              "      <td>0</td>\n",
              "      <td>0</td>\n",
              "      <td>0</td>\n",
              "      <td>0</td>\n",
              "      <td>0</td>\n",
              "      <td>0</td>\n",
              "      <td>0</td>\n",
              "      <td>0</td>\n",
              "      <td>0</td>\n",
              "      <td>0</td>\n",
              "      <td>1</td>\n",
              "      <td>0</td>\n",
              "    </tr>\n",
              "    <tr>\n",
              "      <th>23196</th>\n",
              "      <td>14000.0</td>\n",
              "      <td>36</td>\n",
              "      <td>15.02</td>\n",
              "      <td>2.0</td>\n",
              "      <td>4.792399</td>\n",
              "      <td>22.38</td>\n",
              "      <td>14.432877</td>\n",
              "      <td>7.0</td>\n",
              "      <td>0.0</td>\n",
              "      <td>3.512418</td>\n",
              "      <td>15.1</td>\n",
              "      <td>92.0</td>\n",
              "      <td>0.0</td>\n",
              "      <td>772.0</td>\n",
              "      <td>0</td>\n",
              "      <td>0</td>\n",
              "      <td>0</td>\n",
              "      <td>0</td>\n",
              "      <td>0</td>\n",
              "      <td>0</td>\n",
              "      <td>0</td>\n",
              "      <td>0</td>\n",
              "      <td>0</td>\n",
              "      <td>0</td>\n",
              "      <td>0</td>\n",
              "      <td>1</td>\n",
              "      <td>0</td>\n",
              "      <td>0</td>\n",
              "      <td>0</td>\n",
              "      <td>0</td>\n",
              "      <td>0</td>\n",
              "      <td>0</td>\n",
              "      <td>0</td>\n",
              "      <td>0</td>\n",
              "      <td>0</td>\n",
              "      <td>0</td>\n",
              "      <td>0</td>\n",
              "      <td>0</td>\n",
              "      <td>0</td>\n",
              "      <td>0</td>\n",
              "      <td>...</td>\n",
              "      <td>0</td>\n",
              "      <td>0</td>\n",
              "      <td>0</td>\n",
              "      <td>0</td>\n",
              "      <td>0</td>\n",
              "      <td>0</td>\n",
              "      <td>0</td>\n",
              "      <td>0</td>\n",
              "      <td>0</td>\n",
              "      <td>0</td>\n",
              "      <td>0</td>\n",
              "      <td>0</td>\n",
              "      <td>0</td>\n",
              "      <td>0</td>\n",
              "      <td>0</td>\n",
              "      <td>0</td>\n",
              "      <td>0</td>\n",
              "      <td>0</td>\n",
              "      <td>0</td>\n",
              "      <td>0</td>\n",
              "      <td>0</td>\n",
              "      <td>0</td>\n",
              "      <td>0</td>\n",
              "      <td>0</td>\n",
              "      <td>0</td>\n",
              "      <td>0</td>\n",
              "      <td>0</td>\n",
              "      <td>0</td>\n",
              "      <td>0</td>\n",
              "      <td>0</td>\n",
              "      <td>0</td>\n",
              "      <td>0</td>\n",
              "      <td>1</td>\n",
              "      <td>0</td>\n",
              "      <td>0</td>\n",
              "      <td>0</td>\n",
              "      <td>0</td>\n",
              "      <td>0</td>\n",
              "      <td>1</td>\n",
              "      <td>0</td>\n",
              "    </tr>\n",
              "    <tr>\n",
              "      <th>23410</th>\n",
              "      <td>8000.0</td>\n",
              "      <td>36</td>\n",
              "      <td>18.94</td>\n",
              "      <td>10.0</td>\n",
              "      <td>4.653222</td>\n",
              "      <td>7.89</td>\n",
              "      <td>12.260274</td>\n",
              "      <td>5.0</td>\n",
              "      <td>0.0</td>\n",
              "      <td>3.892929</td>\n",
              "      <td>90.9</td>\n",
              "      <td>NaN</td>\n",
              "      <td>0.0</td>\n",
              "      <td>687.0</td>\n",
              "      <td>0</td>\n",
              "      <td>0</td>\n",
              "      <td>0</td>\n",
              "      <td>0</td>\n",
              "      <td>0</td>\n",
              "      <td>0</td>\n",
              "      <td>0</td>\n",
              "      <td>0</td>\n",
              "      <td>0</td>\n",
              "      <td>0</td>\n",
              "      <td>0</td>\n",
              "      <td>0</td>\n",
              "      <td>0</td>\n",
              "      <td>0</td>\n",
              "      <td>0</td>\n",
              "      <td>1</td>\n",
              "      <td>0</td>\n",
              "      <td>0</td>\n",
              "      <td>0</td>\n",
              "      <td>0</td>\n",
              "      <td>0</td>\n",
              "      <td>0</td>\n",
              "      <td>0</td>\n",
              "      <td>0</td>\n",
              "      <td>0</td>\n",
              "      <td>0</td>\n",
              "      <td>...</td>\n",
              "      <td>0</td>\n",
              "      <td>0</td>\n",
              "      <td>0</td>\n",
              "      <td>0</td>\n",
              "      <td>0</td>\n",
              "      <td>0</td>\n",
              "      <td>0</td>\n",
              "      <td>0</td>\n",
              "      <td>0</td>\n",
              "      <td>0</td>\n",
              "      <td>0</td>\n",
              "      <td>0</td>\n",
              "      <td>0</td>\n",
              "      <td>0</td>\n",
              "      <td>0</td>\n",
              "      <td>0</td>\n",
              "      <td>0</td>\n",
              "      <td>0</td>\n",
              "      <td>0</td>\n",
              "      <td>0</td>\n",
              "      <td>0</td>\n",
              "      <td>0</td>\n",
              "      <td>0</td>\n",
              "      <td>0</td>\n",
              "      <td>0</td>\n",
              "      <td>0</td>\n",
              "      <td>0</td>\n",
              "      <td>0</td>\n",
              "      <td>0</td>\n",
              "      <td>0</td>\n",
              "      <td>1</td>\n",
              "      <td>0</td>\n",
              "      <td>0</td>\n",
              "      <td>0</td>\n",
              "      <td>0</td>\n",
              "      <td>0</td>\n",
              "      <td>0</td>\n",
              "      <td>0</td>\n",
              "      <td>1</td>\n",
              "      <td>0</td>\n",
              "    </tr>\n",
              "  </tbody>\n",
              "</table>\n",
              "<p>5 rows × 113 columns</p>\n",
              "</div>"
            ],
            "text/plain": [
              "       loan_amnt  term  ...  initial_list_status_w  application_type_Joint App\n",
              "22658    35000.0    36  ...                      1                           0\n",
              "22659     5000.0    36  ...                      1                           0\n",
              "22662     4500.0    36  ...                      1                           0\n",
              "23196    14000.0    36  ...                      1                           0\n",
              "23410     8000.0    36  ...                      1                           0\n",
              "\n",
              "[5 rows x 113 columns]"
            ]
          },
          "metadata": {
            "tags": []
          },
          "execution_count": 461
        }
      ]
    },
    {
      "cell_type": "markdown",
      "metadata": {
        "id": "_FUJXzUMk3oN"
      },
      "source": [
        "Impute the missing variables"
      ]
    },
    {
      "cell_type": "code",
      "metadata": {
        "id": "2KuFMIcDk28y"
      },
      "source": [
        "from sklearn.impute import SimpleImputer\n",
        "imputer = SimpleImputer(missing_values=np.nan, strategy='median')\n",
        "\n",
        "# Train on the training features\n",
        "imputer.fit(X_train)\n",
        "\n",
        "# Transform both training and testing data\n",
        "X_train = pd.DataFrame(imputer.transform(X_train), columns=X_train.columns)\n",
        "X_test = pd.DataFrame(imputer.transform(X_test), columns=X_test.columns)"
      ],
      "execution_count": null,
      "outputs": []
    },
    {
      "cell_type": "code",
      "metadata": {
        "id": "M3zTjAJ9zr9x"
      },
      "source": [
        "from sklearn.preprocessing import StandardScaler\n",
        "# Create an imputer object with a median filling strategy\n",
        "scaler = StandardScaler()\n",
        "\n",
        "# Train on the training features\n",
        "scaler.fit(X_train)\n",
        "\n",
        "# Transform both training and testing data\n",
        "X_train = pd.DataFrame(scaler.transform(X_train), columns=X_train.columns)\n",
        "X_test = pd.DataFrame(scaler.transform(X_test), columns=X_test.columns)"
      ],
      "execution_count": null,
      "outputs": []
    },
    {
      "cell_type": "code",
      "metadata": {
        "colab": {
          "base_uri": "https://localhost:8080/"
        },
        "id": "kYYFE7310ZKr",
        "outputId": "ce45dbf7-78ce-4e41-a955-5067edee29e7"
      },
      "source": [
        "from sklearn.linear_model import SGDClassifier\n",
        "from sklearn.pipeline import Pipeline\n",
        "\n",
        "kfold = 3\n",
        "random_state = 42\n",
        "pipeline_sgdlr = Pipeline([('model', SGDClassifier(loss='log', max_iter=1000, tol=1e-3, random_state=random_state, warm_start=True))])\n",
        "\n",
        "param_grid_sgdlr  = {\n",
        "    'model__alpha': [10**-5, 10**-1, 10**2],\n",
        "    'model__penalty': ['l1', 'l2']}\n",
        "\n",
        "grid_sgdlr = GridSearchCV(estimator=pipeline_sgdlr, param_grid=param_grid_sgdlr, scoring='roc_auc', n_jobs=-1, pre_dispatch='2*n_jobs', cv=kfold, verbose=1, return_train_score=False)\n",
        "grid_sgdlr.fit(X_train, y_train)\n",
        "\n",
        "sgdlr_estimator = grid_sgdlr.best_estimator_\n",
        "print('Best score: ', grid_sgdlr.best_score_)\n",
        "print('Best parameters set: \\n', grid_sgdlr.best_params_)"
      ],
      "execution_count": null,
      "outputs": [
        {
          "output_type": "stream",
          "text": [
            "Fitting 3 folds for each of 6 candidates, totalling 18 fits\n"
          ],
          "name": "stdout"
        },
        {
          "output_type": "stream",
          "text": [
            "[Parallel(n_jobs=-1)]: Using backend LokyBackend with 2 concurrent workers.\n",
            "[Parallel(n_jobs=-1)]: Done  18 out of  18 | elapsed:    9.7s finished\n"
          ],
          "name": "stderr"
        },
        {
          "output_type": "stream",
          "text": [
            "Best score:  0.6891919428126817\n",
            "Best parameters set: \n",
            " {'model__alpha': 0.1, 'model__penalty': 'l2'}\n"
          ],
          "name": "stdout"
        }
      ]
    },
    {
      "cell_type": "code",
      "metadata": {
        "colab": {
          "base_uri": "https://localhost:8080/"
        },
        "id": "74-8N2xP2PdL",
        "outputId": "308731a3-ddf2-4934-f4de-2363dc9626f9"
      },
      "source": [
        "from sklearn.ensemble import RandomForestClassifier\n",
        "rf = RandomForestClassifier(n_jobs=-1, random_state=random_state, max_features= 'sqrt' ,n_estimators=50) \n",
        "param_grid_rf = {\n",
        "    'n_estimators': [50], # The number of randomized trees to build \n",
        "    'class_weight': [{0:1, 1:1}] #'model__class_weight': [{0:1, 1:1}, {0:1,1:2}, {0:1, 1:3}, {0:1, 1:4}]\n",
        "   # 'model__max_features': range(2,7),\n",
        "   # 'model__min_samples_leaf':range(2,6),\n",
        "}\n",
        "grid_rf = GridSearchCV(estimator=rf, param_grid=param_grid_rf, scoring='roc_auc',n_jobs=-1,pre_dispatch='2*n_jobs', cv=kfold, verbose=1, return_train_score=False)\n",
        "grid_rf.fit(X_train, y_train)\n",
        "rf_estimator = grid_rf.best_estimator_\n",
        "print('Best score: ', grid_rf.best_score_)\n",
        "print('Best parameters set: \\n', grid_rf.best_params_)"
      ],
      "execution_count": null,
      "outputs": [
        {
          "output_type": "stream",
          "text": [
            "Fitting 3 folds for each of 1 candidates, totalling 3 fits\n"
          ],
          "name": "stdout"
        },
        {
          "output_type": "stream",
          "text": [
            "[Parallel(n_jobs=-1)]: Using backend LokyBackend with 2 concurrent workers.\n",
            "[Parallel(n_jobs=-1)]: Done   3 out of   3 | elapsed:    5.5s finished\n"
          ],
          "name": "stderr"
        },
        {
          "output_type": "stream",
          "text": [
            "Best score:  0.6761613536539723\n",
            "Best parameters set: \n",
            " {'class_weight': {0: 1, 1: 1}, 'n_estimators': 50}\n"
          ],
          "name": "stdout"
        }
      ]
    },
    {
      "cell_type": "code",
      "metadata": {
        "colab": {
          "base_uri": "https://localhost:8080/",
          "height": 349
        },
        "id": "hOGpM6D8z8rC",
        "outputId": "773e726d-61eb-4dce-c4a1-b1b2b834af46"
      },
      "source": [
        "names = list(X_train)\n",
        "feature_importances = pd.DataFrame(grid_rf.best_estimator_.feature_importances_,\n",
        "                                   index = X_train.columns,\n",
        "                                    columns=['importance']).sort_values('importance')\n",
        "print(\"Features sorted by their score: Top 10\")\n",
        "feature_importances.tail(10)"
      ],
      "execution_count": null,
      "outputs": [
        {
          "output_type": "stream",
          "text": [
            "Features sorted by their score: Top 10\n"
          ],
          "name": "stdout"
        },
        {
          "output_type": "execute_result",
          "data": {
            "text/html": [
              "<div>\n",
              "<style scoped>\n",
              "    .dataframe tbody tr th:only-of-type {\n",
              "        vertical-align: middle;\n",
              "    }\n",
              "\n",
              "    .dataframe tbody tr th {\n",
              "        vertical-align: top;\n",
              "    }\n",
              "\n",
              "    .dataframe thead th {\n",
              "        text-align: right;\n",
              "    }\n",
              "</style>\n",
              "<table border=\"1\" class=\"dataframe\">\n",
              "  <thead>\n",
              "    <tr style=\"text-align: right;\">\n",
              "      <th></th>\n",
              "      <th>importance</th>\n",
              "    </tr>\n",
              "  </thead>\n",
              "  <tbody>\n",
              "    <tr>\n",
              "      <th>fico_score</th>\n",
              "      <td>0.051514</td>\n",
              "    </tr>\n",
              "    <tr>\n",
              "      <th>open_acc</th>\n",
              "      <td>0.052473</td>\n",
              "    </tr>\n",
              "    <tr>\n",
              "      <th>loan_amnt</th>\n",
              "      <td>0.061908</td>\n",
              "    </tr>\n",
              "    <tr>\n",
              "      <th>int_rate</th>\n",
              "      <td>0.063648</td>\n",
              "    </tr>\n",
              "    <tr>\n",
              "      <th>mo_sin_old_il_acct</th>\n",
              "      <td>0.063762</td>\n",
              "    </tr>\n",
              "    <tr>\n",
              "      <th>annual_inc</th>\n",
              "      <td>0.064356</td>\n",
              "    </tr>\n",
              "    <tr>\n",
              "      <th>revol_util</th>\n",
              "      <td>0.064444</td>\n",
              "    </tr>\n",
              "    <tr>\n",
              "      <th>revol_bal</th>\n",
              "      <td>0.065543</td>\n",
              "    </tr>\n",
              "    <tr>\n",
              "      <th>earliest_cr_line</th>\n",
              "      <td>0.065823</td>\n",
              "    </tr>\n",
              "    <tr>\n",
              "      <th>dti</th>\n",
              "      <td>0.070515</td>\n",
              "    </tr>\n",
              "  </tbody>\n",
              "</table>\n",
              "</div>"
            ],
            "text/plain": [
              "                    importance\n",
              "fico_score            0.051514\n",
              "open_acc              0.052473\n",
              "loan_amnt             0.061908\n",
              "int_rate              0.063648\n",
              "mo_sin_old_il_acct    0.063762\n",
              "annual_inc            0.064356\n",
              "revol_util            0.064444\n",
              "revol_bal             0.065543\n",
              "earliest_cr_line      0.065823\n",
              "dti                   0.070515"
            ]
          },
          "metadata": {
            "tags": []
          },
          "execution_count": 474
        }
      ]
    }
  ]
}